{
 "cells": [
  {
   "cell_type": "code",
   "execution_count": 9,
   "metadata": {},
   "outputs": [
    {
     "name": "stdout",
     "output_type": "stream",
     "text": [
      "task2\n",
      "task3\n",
      "task1\n"
     ]
    }
   ],
   "source": [
    "import heapq\n",
    "\n",
    "class PriorityQueue:\n",
    "    def __init__(self):\n",
    "        # Очередь будет хранить элементы в виде картежей (приоритет, элемент)\n",
    "        self.__queue = []\n",
    "        self.counter = 0 #Счетчик для обеспечения порядка добавления олинаковых приоритетов\n",
    "\n",
    "    def enqueue(self, item, priority): #Метод для добавления элементов в очередь\n",
    "        # Вставлять элемент в очередь, при этом меньшие знаяения priprity означают более высокий приоритет\n",
    "        heapq.heappush(self.__queue, (priority, self.counter, item))  \n",
    "        self.counter += 1\n",
    "\n",
    "    def is_empty(self):\n",
    "        return len(self.__queue) == 0    \n",
    "\n",
    "    def dequeue(self):\n",
    "        #Извлекать элементт с самым высоким приоритетом(наименьшим priority)\n",
    "        if not self.is_empty():   # Пповеряем, что очередь не пуста\n",
    "            return heapq.heappop(self.__queue)[2]   #Удаляем из очереди элемент\n",
    "        else:\n",
    "            raise IndexError('Из очереди невозможно удалить элементы. Очередь пуста')\n",
    "\n",
    "pq = PriorityQueue()\n",
    "\n",
    "pq.enqueue('task1', 3)\n",
    "pq.enqueue('task2', 1)\n",
    "pq.enqueue('task3', 2)\n",
    "\n",
    "print(pq.dequeue())\n",
    "print(pq.dequeue())\n",
    "print(pq.dequeue())\n",
    "\n",
    "\n"
   ]
  }
 ],
 "metadata": {
  "kernelspec": {
   "display_name": "Python 3",
   "language": "python",
   "name": "python3"
  },
  "language_info": {
   "codemirror_mode": {
    "name": "ipython",
    "version": 3
   },
   "file_extension": ".py",
   "mimetype": "text/x-python",
   "name": "python",
   "nbconvert_exporter": "python",
   "pygments_lexer": "ipython3",
   "version": "3.11.9"
  }
 },
 "nbformat": 4,
 "nbformat_minor": 2
}
