{
 "cells": [
  {
   "cell_type": "code",
   "execution_count": null,
   "metadata": {},
   "outputs": [
    {
     "name": "stdout",
     "output_type": "stream",
     "text": [
      "Обработанный список: [2, 4, 6, 8]\n"
     ]
    }
   ],
   "source": [
    "\n",
    "def apply_callback(callback):\n",
    "    def decorator(func):\n",
    "        def wrapper(lst):\n",
    "            # Применяем callback ко всем элементам списка\n",
    "            other_list = [callback(item) for item in lst]\n",
    "            # Вызываем основную функцию с изменённым списком\n",
    "            return func(other_list)\n",
    "        return wrapper\n",
    "    return decorator\n",
    "\n",
    "# Пример callback функции, которая умножает число на 2\n",
    "def multiply_by_two(x):\n",
    "    return x * 2\n",
    "       \n",
    "\n",
    "@apply_callback(multiply_by_two)\n",
    "def process_numbers(lst):\n",
    "    print(f'Обработанный список: {lst}')\n",
    "\n",
    "\n",
    "\n",
    "process_numbers([1, 2, 3, 4])"
   ]
  }
 ],
 "metadata": {
  "kernelspec": {
   "display_name": "Python 3",
   "language": "python",
   "name": "python3"
  },
  "language_info": {
   "codemirror_mode": {
    "name": "ipython",
    "version": 3
   },
   "file_extension": ".py",
   "mimetype": "text/x-python",
   "name": "python",
   "nbconvert_exporter": "python",
   "pygments_lexer": "ipython3",
   "version": "3.13.0"
  }
 },
 "nbformat": 4,
 "nbformat_minor": 2
}
