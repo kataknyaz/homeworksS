{
 "cells": [
  {
   "cell_type": "markdown",
   "metadata": {},
   "source": [
    "задание 1\n",
    "Создайте класс Device, который содержит информацию об устройстве.\n",
    "Спомощью механизма наследования, реализуйте класс CoffeeMachine(которая содержит информацию о кофемашине),\n",
    "класс Blender (содержит информацию о блендере), класс\n",
    "MeatGrinder (содержит информацию о мясорубке).\n",
    "Каждый из классов должен содержать необходимые\n",
    "для работы методы."
   ]
  },
  {
   "cell_type": "code",
   "execution_count": 6,
   "metadata": {},
   "outputs": [
    {
     "name": "stdout",
     "output_type": "stream",
     "text": [
      " Фабричная марка: Carrera, модель: CRC657, год создания: 2023, максимальное давление: 19 бар\n",
      " Фабричная марка: Tefal Optitouch, модель: HB833132, год создания: 2022, потребляемая мощность: 600 Вт\n",
      " Фабричная марка: Haier, модель: HG-700, год создания: 2024, максимальное время непрерывной работы: 15-20 минут\n"
     ]
    }
   ],
   "source": [
    "class Device:\n",
    "    def __init__(self, brand, model, year):\n",
    "        self.brand = brand\n",
    "        self.model = model\n",
    "        self.year = year\n",
    "\n",
    "    def get_info(self):\n",
    "        return f' Фабричная марка: {self.brand}, модель: {self.model}, год создания: {self.year}'    \n",
    "    \n",
    "class CoffeeMachine(Device): #класс для кофемашины\n",
    "    def __init__(self, brand, model, year, max_pressure):\n",
    "        super(). __init__(brand, model, year)\n",
    "        self.max_pressure = max_pressure   #максимальное давление\n",
    "\n",
    "    def get_info(self):\n",
    "        return super().get_info() + f', максимальное давление: {self.max_pressure} бар'\n",
    "\n",
    "        \n",
    "class Blender(Device):\n",
    "    def __init__(self, brand, model, year, power_consumption):\n",
    "        super(). __init__(brand, model, year)\n",
    "        self.power_consumption = power_consumption   #потребляемая мощность\n",
    "\n",
    "    def get_info(self):\n",
    "        return super().get_info() + f', потребляемая мощность: {self.power_consumption} Вт'    \n",
    "\n",
    "\n",
    "class MeatGrinder(Device):  \n",
    "    def __init__(self, brand, model, year, max_time_work):\n",
    "        super(). __init__(brand, model, year)\n",
    "        self.max_time_work = max_time_work   #максимальное время непрерывной работы\n",
    "\n",
    "    def get_info(self):\n",
    "        return super().get_info() + f', максимальное время непрерывной работы: {self.max_time_work} минут' \n",
    "\n",
    "\n",
    "\n",
    "coffe_machine = CoffeeMachine('Carrera', 'CRC657', 2023, '19')    \n",
    "blender = Blender('Tefal Optitouch', 'HB833132', 2022, '600')\n",
    "meat_grinder = MeatGrinder('Haier', 'HG-700', 2024, '15-20')\n",
    "\n",
    "print(coffe_machine.get_info())\n",
    "print(blender.get_info())\n",
    "print(meat_grinder.get_info())\n",
    "    \n",
    "    \n",
    "\n"
   ]
  },
  {
   "cell_type": "markdown",
   "metadata": {},
   "source": [
    "задание 2\n",
    "Создайте класс Ship, который содержит информацию\n",
    "о корабле.\n",
    "С помощью механизма наследования, реализуйте\n",
    "класс Frigate (содержит информацию о фрегате), класс\n",
    "Destroyer (содержит информацию об эсминце), класс\n",
    "Cruiser (содержит информацию о крейсере).\n",
    "Каждый из классов должен содержать необходимые\n",
    "для работы методы."
   ]
  },
  {
   "cell_type": "code",
   "execution_count": 16,
   "metadata": {},
   "outputs": [
    {
     "name": "stdout",
     "output_type": "stream",
     "text": [
      " марка корабля: Amati, тип: военное судно, год создания: 1702, стоимость: 18 млрд руб, масса: 800 тонн\n",
      " марка корабля: Сарыч, тип: многоцелевой, боевой, быстроходный, манёвренный корабль, год создания: 1894, стоимость: 1500 млрд руб, скорость хода: 18.4 узлов\n",
      " марка корабля: Саутгемптон, тип: боевой надводнный корабль, год создания: 1934, стоимость: 10000 млрд руб, мощность: 75000 л.с.\n"
     ]
    }
   ],
   "source": [
    "class Ship:\n",
    "    def __init__(self, model, type, year, price):\n",
    "        self.model = model\n",
    "        self.type = type\n",
    "        self.year = year\n",
    "        self.price = price\n",
    " \n",
    "    def get_info(self):\n",
    "        return f' марка корабля: {self.model}, тип: {self.type}, год создания: {self.year}, стоимость: {self.price} млрд руб'     \n",
    "\n",
    "class Frigate(Ship):\n",
    "    def __init__(self, model, type, year, price, weight ):\n",
    "        super(). __init__(model, type, year, price)\n",
    "        self.weight = weight\n",
    "\n",
    "    def get_info(self):\n",
    "        return super().get_info() + f', масса: {self.weight} тонн'\n",
    "    \n",
    "\n",
    "class Destroyer(Ship):\n",
    "    def __init__(self, model, type, year, price, speed ):\n",
    "        super(). __init__(model, type, year, price)\n",
    "        self.speed = speed\n",
    "\n",
    "    def get_info(self):\n",
    "        return super().get_info() + f', скорость хода: {self.speed} узлов'\n",
    "\n",
    "\n",
    "class Cruiser(Ship):\n",
    "    def __init__(self, model, type, year, price, power ):\n",
    "        super(). __init__(model, type, year, price)\n",
    "        self.power = power\n",
    "\n",
    "    def get_info(self):\n",
    "        return super().get_info() + f', мощность: {self.power} л.с.'\n",
    "\n",
    "\n",
    "frigate = Frigate('Amati','военное судно', 1702, 18, 800) \n",
    "print(frigate.get_info())\n",
    "\n",
    "destroyer = Destroyer('Сарыч','многоцелевой, боевой, быстроходный, манёвренный корабль', 1894, 1500, 18.4)\n",
    "print(destroyer.get_info())\n",
    "\n",
    "cruiser = Cruiser('Саутгемптон','боевой надводнный корабль', 1934 , 10000, 75000)\n",
    "print(cruiser.get_info())\n"
   ]
  },
  {
   "cell_type": "markdown",
   "metadata": {},
   "source": [
    "задание 3\n",
    "Запрограммируйте класс Money (объект класса оперирует одной валютой) для работы с деньгами.\n",
    "В классе должны быть предусмотрены поле для хранения целой части денег (доллары, евро, гривны и т.д.) и\n",
    "поле для хранения копеек (центы, евроценты, копейки\n",
    "и т.д.).\n",
    "Реализовать методы для вывода суммы на экран, задания значений для частей. "
   ]
  },
  {
   "cell_type": "code",
   "execution_count": null,
   "metadata": {},
   "outputs": [],
   "source": [
    "class Money:\n",
    "    def __init__(self, whole_part, fractional_part, currency):\n",
    "        self.whole_part = whole_part  # целая часть (например, доллары, евро)\n",
    "        self.fractional_part = fractional_part  # копейки, цент, евроценты\n",
    "        self.currency = currency  # валюта (например, USD, EUR)\n",
    "\n",
    "    def get_total(self):\n",
    "        return self.whole_part + self.fractional_part / 100\n",
    "\n",
    "    def set_parts(self, whole_part, fractional_part):\n",
    "        self.whole_part = whole_part\n",
    "        self.fractional_part = fractional_part\n",
    "\n",
    "    def __str__(self):\n",
    "        return f\"{self.whole_part} {self.currency} and {self.fractional_part} subunits\"\n",
    "\n",
    "# Пример использования\n",
    "money = Money(5, 75, 'USD')  # 5 долларов и 75 центов\n",
    "print(money)  # Выведет: 5 USD and 75 subunits\n",
    "print(\"Total value:\", money.get_total())  # Выведет общую сумму (5.75)"
   ]
  }
 ],
 "metadata": {
  "kernelspec": {
   "display_name": "Python 3",
   "language": "python",
   "name": "python3"
  },
  "language_info": {
   "codemirror_mode": {
    "name": "ipython",
    "version": 3
   },
   "file_extension": ".py",
   "mimetype": "text/x-python",
   "name": "python",
   "nbconvert_exporter": "python",
   "pygments_lexer": "ipython3",
   "version": "3.13.0"
  }
 },
 "nbformat": 4,
 "nbformat_minor": 2
}
