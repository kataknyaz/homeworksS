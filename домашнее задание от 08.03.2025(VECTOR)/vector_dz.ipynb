{
 "cells": [
  {
   "cell_type": "code",
   "execution_count": 3,
   "metadata": {},
   "outputs": [
    {
     "name": "stdout",
     "output_type": "stream",
     "text": [
      "Сложение: Vector2D(3, 4) + Vector2D(1, 2) = Vector2D(4, 6)\n",
      "Вычитание: Vector2D(3, 4) - Vector2D(1, 2) = Vector2D(2, 2)\n",
      "Умножение на скаляр: 2 * Vector2D(3, 4) = Vector2D(6, 8)\n",
      "Сравнение: Vector2D(3, 4) == Vector2D(1, 2) -> False\n",
      "Длина вектора Vector2D(3, 4) = 5.0\n"
     ]
    }
   ],
   "source": [
    "import math\n",
    "\n",
    "class Vector2D:\n",
    "    def __init__(self, x=0, y=0):\n",
    "        self.x = x\n",
    "        self.y = y\n",
    "\n",
    "    def __add__(self, other):\n",
    "        #Перегрузка оператора \"+\"\"\n",
    "         return Vector2D(self.x + other.x, self.y + other.y)\n",
    "\n",
    "    def __sub__(self, other):    \n",
    "        #Перегрузка оператора \"-\"\n",
    "         return Vector2D(self.x - other.x, self.y - other.y)\n",
    "\n",
    "    def __mul__(self, scalar):        \n",
    "        #Перегрузка оператора умножения на скаляр         \n",
    "        return Vector2D(self.x * scalar, self.y * scalar)\n",
    "\n",
    "    def __eq__(self, other):\n",
    "        #Перегрузка оператора сравнения на равенство    \n",
    "        return self.x == other.x and self.y == other.y\n",
    "\n",
    "    def magnitude(self):        \n",
    "        #Метод для вычисления длины вектора       \n",
    "        return math.sqrt(self.x ** 2 + self.y ** 2)\n",
    "\n",
    "    def __repr__(self):       \n",
    "        #Строковое представление вектора        \n",
    "        return f\"Vector2D({self.x}, {self.y})\"\n",
    "\n",
    "\n",
    "v1 = Vector2D(3, 4)\n",
    "v2 = Vector2D(1, 2)\n",
    "\n",
    "v3 = v1 + v2  # Сложение векторов\n",
    "print(f\"Сложение: {v1} + {v2} = {v3}\")\n",
    "\n",
    "    \n",
    "v4 = v1 - v2    # Вычитание векторов\n",
    "print(f\"Вычитание: {v1} - {v2} = {v4}\")\n",
    "\n",
    "    \n",
    "scalar = 2    # Умножение на скаляр\n",
    "v5 = v1 * scalar\n",
    "print(f\"Умножение на скаляр: {scalar} * {v1} = {v5}\")\n",
    "\n",
    "    \n",
    "comparison = v1 == v2       # Сравнение векторов\n",
    "print(f\"Сравнение: {v1} == {v2} -> {comparison}\")\n",
    "\n",
    "   \n",
    "length = v1.magnitude()     # Длина вектора\n",
    "print(f\"Длина вектора {v1} = {length}\")\n"
   ]
  }
 ],
 "metadata": {
  "kernelspec": {
   "display_name": "Python 3",
   "language": "python",
   "name": "python3"
  },
  "language_info": {
   "codemirror_mode": {
    "name": "ipython",
    "version": 3
   },
   "file_extension": ".py",
   "mimetype": "text/x-python",
   "name": "python",
   "nbconvert_exporter": "python",
   "pygments_lexer": "ipython3",
   "version": "3.13.0"
  }
 },
 "nbformat": 4,
 "nbformat_minor": 2
}
