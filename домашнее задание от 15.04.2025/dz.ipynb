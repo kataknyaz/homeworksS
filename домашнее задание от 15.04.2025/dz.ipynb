{
 "cells": [
  {
   "cell_type": "code",
   "execution_count": 1,
   "id": "61cfe03c",
   "metadata": {},
   "outputs": [
    {
     "name": "stdout",
     "output_type": "stream",
     "text": [
      "[email] sending: Система перегружена\n",
      "[sms] sending: Низкий заряд батареи\n"
     ]
    }
   ],
   "source": [
    "# Задание 1\n",
    "# МОСТ\n",
    "\n",
    "from abc import ABC, abstractmethod\n",
    "\n",
    "# Создали интерфейс\n",
    "class NotificationSender(ABC): # это интерфейс для всех каналов отправки\n",
    "    @abstractmethod\n",
    "    def send(self): ...\n",
    "\n",
    "# Конкретные реализации интерфейса\n",
    "class EmailNotification(NotificationSender):\n",
    "    def send(self, message):\n",
    "        return f\"[email] sending: {message}\"  \n",
    "\n",
    "class SMSNotification(NotificationSender):\n",
    "    def send(self, message):\n",
    "        return f\"[sms] sending: {message}\"\n",
    "\n",
    "# Абстракция \n",
    "class Notification(ABC):\n",
    "    def __init__(self, sender) -> None:\n",
    "        self.sender = sender\n",
    "\n",
    "    def notify(self, message: str): ...\n",
    "\n",
    "class AlertNotification(Notification):\n",
    "    def notify(self, message: str):\n",
    "        return self.sender.send(message)\n",
    "\n",
    "\n",
    "email = EmailNotification()\n",
    "sms = SMSNotification()\n",
    "\n",
    "alert = AlertNotification(email)\n",
    "print(alert.notify(\"Система перегружена\"))\n",
    "\n",
    "alert.sender = sms\n",
    "print(alert.notify(\"Низкий заряд батареи\"))\n",
    "\n",
    "                      \n"
   ]
  },
  {
   "cell_type": "code",
   "execution_count": 8,
   "id": "a7a4203a",
   "metadata": {},
   "outputs": [
    {
     "name": "stdout",
     "output_type": "stream",
     "text": [
      "[push] sending: новый способ сообщения!\n"
     ]
    }
   ],
   "source": [
    "# Задание 2\n",
    "# Паттерн Адаптер\n",
    "\n",
    "\n",
    "# Старый класс (не совместим с NotificationSender)\n",
    "class PushNotification:\n",
    "    def push(self, content: str):\n",
    "        return f\"[push] sending: {content}\"\n",
    "    \n",
    "# Адаптер, реализующий интерфейс NotificationSender для объектов PushNotification\n",
    "class PushNotificationAdapter(NotificationSender):\n",
    "    def __init__(self, adapter: PushNotification) -> None:\n",
    "        self.adapter = adapter\n",
    "\n",
    "    def send(self, message) -> str:\n",
    "        return self.adapter.push(message) \n",
    "    \n",
    "push = PushNotification()\n",
    "adapter = PushNotificationAdapter(push)\n",
    "\n",
    "alert = AlertNotification(adapter)\n",
    "print(alert.notify(\"новый способ сообщения!\"))\n"
   ]
  },
  {
   "cell_type": "code",
   "execution_count": 13,
   "id": "b2939b94",
   "metadata": {},
   "outputs": [
    {
     "data": {
      "text/plain": [
       "'[URGENT] [email] sending: Сервер упал'"
      ]
     },
     "execution_count": 13,
     "metadata": {},
     "output_type": "execute_result"
    }
   ],
   "source": [
    "# Задание 3\n",
    "\n",
    "# Базовый интерфейс уведомлений\n",
    "class BaseNotification(ABC):\n",
    "    @abstractmethod\n",
    "    def notify(self, message) -> str: ...\n",
    "\n",
    "\n",
    "class SimpleNotification(BaseNotification):\n",
    "    def __init__(self, sender: Notification) -> None:\n",
    "        self.sender = sender\n",
    "\n",
    "    def notify(self, message) -> str:\n",
    "        return self.sender.send(message)    \n",
    "\n",
    "\n",
    "class UrgentNotification(BaseNotification):\n",
    "    def __init__(self, wrapped: BaseNotification) -> None:\n",
    "        self.wrapped = wrapped\n",
    "\n",
    "    def notify(self, message) -> str:\n",
    "        return \"[URGENT]\" + \" \" + self.wrapped.notify(message)       \n",
    "    \n",
    "\n",
    "email = EmailNotification()\n",
    "simple = SimpleNotification(email)\n",
    "\n",
    "urgent = UrgentNotification(simple)\n",
    "urgent.notify(\"Сервер упал\")\n",
    "\n",
    "\n"
   ]
  }
 ],
 "metadata": {
  "kernelspec": {
   "display_name": "Python 3",
   "language": "python",
   "name": "python3"
  },
  "language_info": {
   "codemirror_mode": {
    "name": "ipython",
    "version": 3
   },
   "file_extension": ".py",
   "mimetype": "text/x-python",
   "name": "python",
   "nbconvert_exporter": "python",
   "pygments_lexer": "ipython3",
   "version": "3.13.2"
  }
 },
 "nbformat": 4,
 "nbformat_minor": 5
}
