{
 "cells": [
  {
   "cell_type": "markdown",
   "metadata": {},
   "source": [
    " Реализуйте программу, которая вычисляет сумму всех четных\n",
    "чисел в списке. Напишите код для решения этой задачи в трех разных\n",
    "стилях программирования.\n",
    "пример входных данных\n",
    "\n",
    "[1, 2, 3, 4, 5, 6] \n",
    "[10, 15, 20, 25, 30]\n",
    "[7, 9, 11, 13]\n",
    "[2, 4, 6, 8, 10]\n",
    "[]"
   ]
  },
  {
   "cell_type": "code",
   "execution_count": null,
   "metadata": {},
   "outputs": [],
   "source": [
    "1: Императивный стиль – используйте переменные и циклы для\n",
    "последовательного обхода списка"
   ]
  },
  {
   "cell_type": "code",
   "execution_count": 1,
   "metadata": {},
   "outputs": [
    {
     "name": "stdout",
     "output_type": "stream",
     "text": [
      "Сумма четных чисел: 12\n"
     ]
    }
   ],
   "source": [
    "# пример 1\n",
    "numbers = [1, 2, 3, 4, 5, 6]\n",
    "sum_numbers = 0                # переменная для хранения суммы четных чисел  \n",
    "for number in numbers:\n",
    "    if number % 2 == 0:        #проверка числа на четность\n",
    "        sum_numbers += number          #четное число добавляется к сумме четных чисел\n",
    "print(\"Сумма четных чисел:\", sum_numbers)"
   ]
  },
  {
   "cell_type": "code",
   "execution_count": null,
   "metadata": {},
   "outputs": [],
   "source": [
    "# пример 2\n",
    "numbers = [7, 9, 11, 13]\n",
    "sum_numbers = 0\n",
    "for number in numbers:\n",
    "    if number % 2 == 0:\n",
    "        sum_numbers += number\n",
    "print(\"Сумма четных чисел:\", sum_numbers)  "
   ]
  },
  {
   "cell_type": "markdown",
   "metadata": {},
   "source": [
    "2: Процедурный стиль – разделите логику на функции, каждая из\n",
    "которых выполняет отдельную подзадачу (например, фильтрация\n",
    "четных чисел, вычисление суммы):"
   ]
  },
  {
   "cell_type": "code",
   "execution_count": 4,
   "metadata": {},
   "outputs": [
    {
     "name": "stdout",
     "output_type": "stream",
     "text": [
      "Сумма четных чисел: 12\n"
     ]
    }
   ],
   "source": [
    "# Функция, с помощью которой будем фильтровать четные числа из списка\n",
    "def filter_numbers(numbers):\n",
    "    even_numbers = []          #список для четных чисел\n",
    "    for number in numbers:\n",
    "        if number % 2 == 0:      #проверка на четность чисел\n",
    "            even_numbers.append(number)       #если число четное, то добавляем в список        \n",
    "    return even_numbers             #возвращаем четный список\n",
    "\n",
    "\n",
    "# Функция, с помощью которой вычисляем сумму чисел в списке\n",
    "def sum_all_numbers(numbers):\n",
    "    sum_even_numbers = 0\n",
    "    for number in numbers:        \n",
    "        sum_even_numbers += number    #на каждом шаге прибавляем текущее число к сумме\n",
    "    return sum_even_numbers           #возвращаем общую сумму\n",
    "\n",
    "\n",
    "numbers = [1, 2, 3, 4, 5, 6]\n",
    "# Фильтруем четные числа\n",
    "even_numbers = filter_numbers(numbers)\n",
    "\n",
    "# Вычисляем сумму четных чисел\n",
    "sum_even_numbers = sum_all_numbers(even_numbers)\n",
    "\n",
    "# Выводим результат\n",
    "print(\"Сумма четных чисел:\", sum_even_numbers)\n",
    "\n"
   ]
  },
  {
   "cell_type": "code",
   "execution_count": null,
   "metadata": {},
   "outputs": [],
   "source": [
    "3: Функциональный стиль – используйте функции высшего порядка\n",
    "(map, filter, reduce и другие) и неизменяемые данные."
   ]
  },
  {
   "cell_type": "code",
   "execution_count": 16,
   "metadata": {},
   "outputs": [
    {
     "name": "stdout",
     "output_type": "stream",
     "text": [
      "Сумма всех четных чисел: 12\n"
     ]
    }
   ],
   "source": [
    "from functools import reduce\n",
    "\n",
    "\n",
    "# Список чисел\n",
    "numbers = [1, 2, 3, 4, 5, 6]\n",
    "\n",
    "# Используем filter () для отбора четных чисел \n",
    "# filter() принимает функцию, которая возвращает True/False и итерирует объект\n",
    "even_numbers = list(filter(lambda x: x % 2 == 0, numbers))\n",
    "#print('четные числа:', even_numbers)\n",
    "\n",
    "sum_even_numbers = reduce(lambda y, z: y + z, even_numbers)\n",
    "\n",
    "\n",
    "# Вывод результата\n",
    "print(f\"Сумма всех четных чисел: {sum_even_numbers}\")  # Вывод: Сумма всех четных чисел: 12\n"
   ]
  }
 ],
 "metadata": {
  "kernelspec": {
   "display_name": "Python 3",
   "language": "python",
   "name": "python3"
  },
  "language_info": {
   "codemirror_mode": {
    "name": "ipython",
    "version": 3
   },
   "file_extension": ".py",
   "mimetype": "text/x-python",
   "name": "python",
   "nbconvert_exporter": "python",
   "pygments_lexer": "ipython3",
   "version": "3.11.9"
  }
 },
 "nbformat": 4,
 "nbformat_minor": 2
}
