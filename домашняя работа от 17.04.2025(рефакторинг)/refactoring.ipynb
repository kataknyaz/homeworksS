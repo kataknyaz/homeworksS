{
 "cells": [
  {
   "cell_type": "markdown",
   "id": "465b4066",
   "metadata": {},
   "source": [
    "Практическая работа\n",
    "Часть 1: Рефакторинг существующего код\n",
    "- Выберите небольшой фрагмент кода из вашего предыдущего проекта или предложенный преподавателем\n",
    "- Проанализируйте код на наличие запахов и определите области, требующие улучшения\n",
    "- Примените соответствующие техники рефакторинга для улучшения\n",
    "читаемости, производительности и поддерживаемости кода\n",
    "- Сравните до и после изменения: какие улучшения были достигнуты"
   ]
  },
  {
   "cell_type": "code",
   "execution_count": null,
   "id": "cfae484a",
   "metadata": {},
   "outputs": [
    {
     "name": "stdout",
     "output_type": "stream",
     "text": [
      "15\n"
     ]
    }
   ],
   "source": [
    "#1 задание\n",
    "def calc(a, b):\n",
    "    return a + b\n",
    "\n",
    "result = calc(5, 10)\n",
    "print(result)\n"
   ]
  },
  {
   "cell_type": "code",
   "execution_count": null,
   "id": "50bd8537",
   "metadata": {},
   "outputs": [],
   "source": [
    " # Функция для вычисления суммы двух чисел.\n",
    "def calculate_sum(first_number, second_number):\n",
    "       \n",
    "\n",
    "# param first_number: Первое число\n",
    "# param second_number: Второе число\n",
    "   \n",
    "    return first_number + second_number\n",
    "\n",
    "try:\n",
    "    total = calculate_sum(5, 10)\n",
    "    print(total)\n",
    "except TypeError:\n",
    "    print(\"Ошибка: оба аргумента должны быть числами.\")\n",
    "\n",
    "# Функция теперь называется calculate_sum, что четко отражает ее назначение. Параметры first_number и second_number также более информативны, что делает код более читабельным\n",
    "# добавлена Обработка ошибок, что позволяет обрабатывать ошибки, возникающие при передаче некорректных типов данных."
   ]
  },
  {
   "cell_type": "code",
   "execution_count": null,
   "id": "b4f3f935",
   "metadata": {},
   "outputs": [],
   "source": [
    "Часть 2: Применение паттернов проектирования\n",
    "- Изучите один из порождающих паттернов проектирования\n",
    "(например, Абстрактная фабрика, Строитель, Одиночка)\n",
    "- Реализуйте выбранный паттерн в небольшом проекте на Python~\n",
    "- Объясните выбор паттерна и продемонстрируйте его применение на\n",
    "практическом примере\n"
   ]
  },
  {
   "cell_type": "code",
   "execution_count": 5,
   "id": "92530dc7",
   "metadata": {},
   "outputs": [
    {
     "name": "stdout",
     "output_type": "stream",
     "text": [
      "Pizza(size=medium, crust=thin, toppings=['mozzarella', 'tomato'])\n",
      "Pizza(size=large, crust=thick, toppings=['mozzarella', 'pepperoni'])\n"
     ]
    }
   ],
   "source": [
    "# Строитель\n",
    "\n",
    "class Pizza:\n",
    "    def __init__(self):\n",
    "        self.size = None\n",
    "        self.crust = None\n",
    "        self.toppings = []\n",
    "\n",
    "    def __str__(self):\n",
    "        return f\"Pizza(size={self.size}, crust={self.crust}, toppings={self.toppings})\"\n",
    "\n",
    "# cтроитель    \n",
    "class PizzaBuilder:\n",
    "    def __init__(self):\n",
    "        self.pizza = Pizza()\n",
    "\n",
    "    def set_size(self, size):\n",
    "        self.pizza.size = size\n",
    "        return self\n",
    "\n",
    "    def set_crust(self, crust):\n",
    "        self.pizza.crust = crust\n",
    "        return self\n",
    "\n",
    "    def add_topping(self, topping):\n",
    "        self.pizza.toppings.append(topping)\n",
    "        return self\n",
    "\n",
    "    def build(self):\n",
    "        return self.pizza\n",
    "    \n",
    "\n",
    "margherita = (PizzaBuilder()\n",
    "    .set_size(\"medium\")\n",
    "    .set_crust(\"thin\")\n",
    "    .add_topping(\"mozzarella\")\n",
    "    .add_topping(\"tomato\")\n",
    "    .build()\n",
    "    )\n",
    "\n",
    "pepperoni = (PizzaBuilder()\n",
    "    .set_size(\"large\")\n",
    "    .set_crust(\"thick\")\n",
    "    .add_topping(\"mozzarella\")\n",
    "    .add_topping(\"pepperoni\")\n",
    "    .build()\n",
    "    )\n",
    "\n",
    "print(margherita)\n",
    "print(pepperoni)\n",
    "\n",
    "# паттерн Строитель — это порождающий паттерн проектирования, который позволяет создавать объекты пошагово. \n",
    "#  Он предлагает разделить процесс построения сложного объекта на различные части, каждая из которых отвечает\n",
    "# за определённый аспект построения объекта. Так построение объекта становится более структурированным, гибким и понятным. \n",
    "\n"
   ]
  },
  {
   "cell_type": "code",
   "execution_count": null,
   "id": "d4fc0af4",
   "metadata": {},
   "outputs": [],
   "source": []
  }
 ],
 "metadata": {
  "kernelspec": {
   "display_name": "Python 3",
   "language": "python",
   "name": "python3"
  },
  "language_info": {
   "codemirror_mode": {
    "name": "ipython",
    "version": 3
   },
   "file_extension": ".py",
   "mimetype": "text/x-python",
   "name": "python",
   "nbconvert_exporter": "python",
   "pygments_lexer": "ipython3",
   "version": "3.13.2"
  }
 },
 "nbformat": 4,
 "nbformat_minor": 5
}
