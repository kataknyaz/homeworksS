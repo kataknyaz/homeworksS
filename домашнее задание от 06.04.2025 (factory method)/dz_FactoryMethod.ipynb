{
 "cells": [
  {
   "cell_type": "markdown",
   "id": "668e11b5",
   "metadata": {},
   "source": [
    "Описание: Необходимо реализовать систему управления заказами в онлайнмагазине, которая использует паттерн проектирования «Фабричный Метод».\n",
    "Система должна позволять создавать разные типы заказов (например,\n",
    "обычный заказ, срочный заказ, международный заказ и т.д.). Каждый тип\n",
    "заказа должен иметь свои уникальные характеристики и обработку.\n",
    "\n",
    "Требования\n",
    "- Создайте абстрактный класс Order с общими методами для всех типов\n",
    "заказов (например, process_order)\n",
    "- Создайте конкретные классы для различных типов заказов,\n",
    "наследующиеся от абстрактного класса\n",
    "- Реализуйте абстрактный класс OrderFactory, содержащий фабричный метод\n",
    "create_order, который будут реализовывать конкретные фабрики\n",
    "- Создайте конкретные фабрики (RegularOrderFactory, UrgentOrderFactory,\n",
    "InternationalOrderFactory) для создания соответствующих типов заказов\n",
    "- Продемонстрируйте использование фабричного метода, создав несколько\n",
    "различных заказов и вызвав для каждого из них метод обработки."
   ]
  },
  {
   "cell_type": "code",
   "execution_count": 4,
   "id": "cf0b4b1b",
   "metadata": {},
   "outputs": [
    {
     "name": "stdout",
     "output_type": "stream",
     "text": [
      "Обработка обычного заказа.\n",
      "Обработка срочного заказа.\n",
      "Обработка международного заказа.\n"
     ]
    }
   ],
   "source": [
    "from abc import ABC, abstractmethod\n",
    "\n",
    "# Определение абстрактного класса\n",
    "class Order(ABC):  #интерфейс для реализации \n",
    "    @abstractmethod\n",
    "    def process_order(self):\n",
    "        pass\n",
    "\n",
    "# Создание конкретных классов для разных типов заказов\n",
    "class RegularOrder(Order):\n",
    "    def process_order(self):\n",
    "        return \"Обработка обычного заказа.\"\n",
    "\n",
    "class UrgentOrder(Order):\n",
    "    def process_order(self):\n",
    "        return \"Обработка срочного заказа.\"\n",
    "\n",
    "class InternationalOrder(Order):\n",
    "    def process_order(self):\n",
    "        return \"Обработка международного заказа.\"\n",
    "\n",
    "# Реализуем абстрактный класс\n",
    "class OrderFactory(ABC):\n",
    "    @abstractmethod\n",
    "    def create_order(self):\n",
    "        pass\n",
    "\n",
    "# Создание конкретных фабрик\n",
    "class RegularOrderFactory(OrderFactory):\n",
    "    def create_order(self):\n",
    "        return RegularOrder()\n",
    "\n",
    "class UrgentOrderFactory(OrderFactory):\n",
    "    def create_order(self):\n",
    "        return UrgentOrder()\n",
    "\n",
    "class InternationalOrderFactory(OrderFactory):\n",
    "    def create_order(self):\n",
    "        return InternationalOrder()\n",
    "\n",
    "    def main():\n",
    "        factories = [\n",
    "            RegularOrderFactory(),\n",
    "            UrgentOrderFactory(),\n",
    "            InternationalOrderFactory()\n",
    "        ]\n",
    "\n",
    "        for factory in factories:\n",
    "            order = factory.create_order()\n",
    "            print(order.process_order())\n",
    "\n",
    "    main()    \n",
    "\n",
    "\n"
   ]
  }
 ],
 "metadata": {
  "kernelspec": {
   "display_name": "Python 3",
   "language": "python",
   "name": "python3"
  },
  "language_info": {
   "codemirror_mode": {
    "name": "ipython",
    "version": 3
   },
   "file_extension": ".py",
   "mimetype": "text/x-python",
   "name": "python",
   "nbconvert_exporter": "python",
   "pygments_lexer": "ipython3",
   "version": "3.13.2"
  }
 },
 "nbformat": 4,
 "nbformat_minor": 5
}
