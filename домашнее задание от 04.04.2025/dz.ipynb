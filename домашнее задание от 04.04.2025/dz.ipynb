{
 "cells": [
  {
   "cell_type": "markdown",
   "metadata": {},
   "source": [
    "реализация двусвязного списка для банка"
   ]
  },
  {
   "cell_type": "code",
   "execution_count": 14,
   "metadata": {},
   "outputs": [
    {
     "name": "stdout",
     "output_type": "stream",
     "text": [
      "Имя: Кристофер, номер счета: 123, баланс: 1000\n",
      "Имя: Джон, номер счета: 124, баланс: 2000\n",
      "Имя: Олег, номер счета: 125, баланс: 2000\n",
      "Был удален клиент с номером 124\n",
      "Имя: Кристофер, номер счета: 123, баланс: 1000\n",
      "Имя: Олег, номер счета: 125, баланс: 2000\n"
     ]
    }
   ],
   "source": [
    "class ClientNode:\n",
    "    def __init__(self, name, account_number, balance):\n",
    "        self.name = name #Имя клиента\n",
    "        self.account_number = account_number # номер счета\n",
    "        self.balance = balance # баланс\n",
    "        self.prev = None # Ссылка на предыдущий узел\n",
    "        self.next = None # Ссылка на след узел\n",
    "\n",
    "class BankClientList:\n",
    "    def __init__(self) -> None:\n",
    "        self.head = None\n",
    "        self.tail = None\n",
    "\n",
    "    def add_client(self, name, account_number, balance):\n",
    "        new_client = ClientNode( name, account_number, balance)\n",
    "        if not self.head:\n",
    "            self.head = self.tail = new_client # Новый клиент стангвится головой и хвостом списка\n",
    "        else:\n",
    "            self.tail.next = new_client # привязка нового клиента к текущему хвосту\n",
    "            new_client.prev = self.tail # привязка текущего хвоста к новому клиенту\n",
    "            self.tail = new_client # Новый клиент становится хвостом списка     \n",
    "\n",
    "    def remove_client(self, account_number):\n",
    "        current = self.head # Будем начинать поиск с начала списка\n",
    "\n",
    "        while current and current.account_number != account_number:\n",
    "            current = current.next\n",
    "        if not current: # Если дошли до конца списка (клиент не найден)\n",
    "            return False # Возвращаем False - удаление не произошло\n",
    "\n",
    "\n",
    "        if current.prev: # если найденный узел не является первым (головой)\n",
    "            # Перенапрявляем указатель next предыдущего узла, чтобы пропустить текущий узел\n",
    "            current.prev.next = current.next \n",
    "        else:\n",
    "            # Если удаленный узел -это голова списка, перемещаем голову на следующий узел\n",
    "            self.head = current.next\n",
    "\n",
    "\n",
    "        if current.next:\n",
    "            current.next.prev = current.prev\n",
    "        else:\n",
    "            self.tail = current.prev\n",
    "\n",
    "        return True                     \n",
    "\n",
    "\n",
    "    def find_client(self, account_number):\n",
    "        current = self.head # Сurrent хранит в себе первый элемент двусвязного списка\n",
    "        while current: # Цикл, который будет работать пока Current не будет пустым\n",
    "            if current.account_number == account_number:\n",
    "                return True\n",
    "            current = current.next   # Производим переход к следующему узлу\n",
    "        return False      \n",
    "\n",
    "    def list_clients(self):\n",
    "        current = self.head\n",
    "        while current:\n",
    "            print(f\"Имя: {current.name}, номер счета: {current.account_number}, баланс: {current.balance}\")   \n",
    "            current = current.next # переход к следующему узлу \n",
    "\n",
    "    def update_balance(self, account_number, balance):\n",
    "        current = self.head\n",
    "        while current:\n",
    "            if current.account_number == account_number:\n",
    "                current.balance = balance\n",
    "            current = current.next    \n",
    "\n",
    "\n",
    "\n",
    "bank_list = BankClientList()\n",
    "bank_list.add_client(\"Кристофер\", \"123\", 1000)  \n",
    "bank_list.add_client(\"Джон\", \"124\", 2000)  \n",
    "bank_list.add_client(\"Олег\", \"125\", 2000)  \n",
    "bank_list.list_clients() \n",
    "bank_list.remove_client(\"124\")\n",
    "print(\"Был удален клиент с номером 124\")\n",
    "bank_list.list_clients()           "
   ]
  }
 ],
 "metadata": {
  "kernelspec": {
   "display_name": "Python 3",
   "language": "python",
   "name": "python3"
  },
  "language_info": {
   "codemirror_mode": {
    "name": "ipython",
    "version": 3
   },
   "file_extension": ".py",
   "mimetype": "text/x-python",
   "name": "python",
   "nbconvert_exporter": "python",
   "pygments_lexer": "ipython3",
   "version": "3.11.7"
  }
 },
 "nbformat": 4,
 "nbformat_minor": 2
}
