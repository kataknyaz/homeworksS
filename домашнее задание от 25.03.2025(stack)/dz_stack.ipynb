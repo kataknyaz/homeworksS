{
 "cells": [
  {
   "cell_type": "code",
   "execution_count": 2,
   "metadata": {},
   "outputs": [
    {
     "name": "stdout",
     "output_type": "stream",
     "text": [
      "20\n",
      "10\n"
     ]
    }
   ],
   "source": [
    "class Stack:\n",
    "    def __init__(self, data_type):\n",
    "        #Устанавливаем тип данных, который стек должен хранить\n",
    "        self.__type = data_type\n",
    "        self.__stack = []\n",
    "\n",
    "    def push(self, item):\n",
    "        if not isinstance(item, self.__type):\n",
    "            raise TypeError(f'Неверный тип данных для стека. Ожидался тип данных: {self.__type}')\n",
    "        self.__stack.append(item)\n",
    "\n",
    "    def is_empty(self): return len(self.__stack) == 0\n",
    "\n",
    "    def pop(self):\n",
    "        if self.is_empty():\n",
    "            raise IndexError(f'Невозможно удалить элемент, стек пуст')\n",
    "        return self.__stack.pop()\n",
    "    \n",
    "int_stack = Stack(int)\n",
    "int_stack.push(10)   \n",
    "int_stack.push(20) \n",
    "\n",
    "print(int_stack.pop())\n",
    "print(int_stack.pop())\n"
   ]
  }
 ],
 "metadata": {
  "kernelspec": {
   "display_name": "Python 3",
   "language": "python",
   "name": "python3"
  },
  "language_info": {
   "codemirror_mode": {
    "name": "ipython",
    "version": 3
   },
   "file_extension": ".py",
   "mimetype": "text/x-python",
   "name": "python",
   "nbconvert_exporter": "python",
   "pygments_lexer": "ipython3",
   "version": "3.13.2"
  }
 },
 "nbformat": 4,
 "nbformat_minor": 2
}
