{
 "cells": [
  {
   "cell_type": "code",
   "execution_count": null,
   "metadata": {},
   "outputs": [
    {
     "name": "stdout",
     "output_type": "stream",
     "text": [
      "Текущая страница: https://example4.com\n",
      "\n",
      "История посещений: ['https://example1.com', 'https://example2.com', 'https://example3.com', 'https://example4.com', 'https://example5.com']\n"
     ]
    }
   ],
   "source": [
    "class PageNode:\n",
    "    def __init__(self, url):\n",
    "        self.url = url\n",
    "        self.next = None\n",
    "        self.prev = None\n",
    "\n",
    "class HistoryList:\n",
    "    def __init__(self) -> None:\n",
    "        self.head = None # Голова списка (первая страница)   \n",
    "        self.tail = None # Хвост списка (последняя страница)      \n",
    "        self.current = None # Текущая страница\n",
    "\n",
    "    def add_page(self, url):\n",
    "        new_page = PageNode(url)\n",
    "\n",
    "        if not self.head:  # Если список пуст, добавляем страницу как единственную\n",
    "            self.head = new_page\n",
    "            self.tail = new_page\n",
    "            self.current = new_page\n",
    "\n",
    "        else:\n",
    "            # У предыдущей страницы его следующей страницей будет new_page\n",
    "            self.tail.next = new_page  # Устанавливаем ссылку с последней страницы\n",
    "            # У новой страницы ее предыдущей страницей будет self.tail\n",
    "            new_page.prev = self.tail # Устанавливаем ссылку на предыдущую страницу \n",
    "            self.tail = new_page # обновляем хвост списка\n",
    "            self.current = new_page # Обновляем текущую страницу\n",
    "\n",
    "\n",
    "    def move_back(self):\n",
    "        # Существует ли текущая страница и предыдущая страница\n",
    "        if self.current and self.current.prev:\n",
    "            self.current = self.current.prev   # Теперь теекущая страница - прошлая   \n",
    "        else:\n",
    "            print( \"Нет предыдущей страницы\") \n",
    "\n",
    "    def move_forward(self):\n",
    "        # Существует ли текущая страница и следующая страница\n",
    "        if self.current and self.current.next:\n",
    "            self.current = self.current.next   # Теперь теекущая страница - следующая   \n",
    "        else:\n",
    "            print( \"Нет следующей страницы\")         \n",
    "\n",
    "    def get_current_page(self):\n",
    "        return self.current.url if self.current else \"История пуста\"  \n",
    "\n",
    "    def print_history(self):\n",
    "        history = []\n",
    "        current_page = self.head\n",
    "        while current_page:\n",
    "            history.append(current_page.url)\n",
    "            current_page = current_page.next\n",
    "        return history    \n",
    "\n",
    "\n",
    "history = HistoryList()\n",
    "history.add_page(\"https://example1.com\")\n",
    "history.add_page(\"https://example2.com\")\n",
    "history.add_page(\"https://example3.com\")\n",
    "history.add_page(\"https://example4.com\")\n",
    "history.add_page(\"https://example5.com\")\n",
    "\n",
    "history.move_back()\n",
    "history.move_back()\n",
    "history.move_forward()\n",
    "\n",
    "print(f\"Текущая страница: {history.get_current_page()}\")\n",
    "print()\n",
    "print(f\"История посещений: {history.print_history()}\")\n"
   ]
  }
 ],
 "metadata": {
  "kernelspec": {
   "display_name": "Python 3",
   "language": "python",
   "name": "python3"
  },
  "language_info": {
   "codemirror_mode": {
    "name": "ipython",
    "version": 3
   },
   "file_extension": ".py",
   "mimetype": "text/x-python",
   "name": "python",
   "nbconvert_exporter": "python",
   "pygments_lexer": "ipython3",
   "version": "3.13.2"
  }
 },
 "nbformat": 4,
 "nbformat_minor": 2
}
