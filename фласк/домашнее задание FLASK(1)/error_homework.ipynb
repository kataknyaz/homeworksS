{
 "cells": [
  {
   "cell_type": "markdown",
   "id": "6aa8860d",
   "metadata": {},
   "source": [
    "исправленный код"
   ]
  },
  {
   "cell_type": "code",
   "execution_count": null,
   "id": "953762da",
   "metadata": {},
   "outputs": [],
   "source": [
    "from flask import Flask, render_template, request\n",
    "\n",
    "app = Flask(__name__)\n",
    "\n",
    "@app.route('/', methods=['GET', 'POST'])  # для получения данных из формы используем GET\n",
    "def home():\n",
    "    # если запрос методом POST\n",
    "    if request.method == 'POST':\n",
    "        return render_template('form.html') # если да, рендерим шаблон 'form.html'\n",
    "    return render_template('index.html') # если нет, рендерим шаблон 'index.html'\n",
    "\n",
    "@app.route('/submit', methods=['POST']) # submit должен поддерживать метод POST!, так как данные отправляютя через форму\n",
    "def submit():\n",
    "    name = request.form.get(\"name\")  # Исправлено на request.form\n",
    "    return f'Привет, {name}!'\n",
    "\n",
    "if __name__ == \"__main__\":  # Исправлено на __name__\n",
    "    app.run(debug=True)\n"
   ]
  },
  {
   "cell_type": "markdown",
   "id": "fc0acd33",
   "metadata": {},
   "source": [
    "неправильная форма из задания\n"
   ]
  },
  {
   "cell_type": "code",
   "execution_count": null,
   "id": "d55cd6e1",
   "metadata": {},
   "outputs": [],
   "source": [
    "from flask import Flask, render_template, request\n",
    "\n",
    "app = Flask(__name__)\n",
    "\n",
    "@app.route('/', methods=['POST'])\n",
    "def home():\n",
    "    return render_template('form.html')\n",
    "\n",
    "@app.route('/submit', methods=['GET'])\n",
    "def submit():\n",
    "    name = request.forms.get(\"name\")\n",
    "    return f'Привет, {name}'\n",
    "\n",
    "if __name__ == \"__main__\":\n",
    "    app.run(debug=True) \n",
    "\n",
    "\n"
   ]
  }
 ],
 "metadata": {
  "language_info": {
   "name": "python"
  }
 },
 "nbformat": 4,
 "nbformat_minor": 5
}
