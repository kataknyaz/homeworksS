{
 "cells": [
  {
   "cell_type": "code",
   "execution_count": 6,
   "metadata": {},
   "outputs": [
    {
     "ename": "ModuleNotFoundError",
     "evalue": "No module named 'requests'",
     "output_type": "error",
     "traceback": [
      "\u001b[1;31m---------------------------------------------------------------------------\u001b[0m",
      "\u001b[1;31mModuleNotFoundError\u001b[0m                       Traceback (most recent call last)",
      "Cell \u001b[1;32mIn[6], line 1\u001b[0m\n\u001b[1;32m----> 1\u001b[0m \u001b[38;5;28;01mimport\u001b[39;00m \u001b[38;5;21;01mrequests\u001b[39;00m\n\u001b[0;32m      2\u001b[0m \u001b[38;5;28;01mimport\u001b[39;00m \u001b[38;5;21;01mjson\u001b[39;00m\n\u001b[0;32m      4\u001b[0m access_key \u001b[38;5;241m=\u001b[39m \u001b[38;5;124m'\u001b[39m\u001b[38;5;124m42b6ced0-abbf-4089-8c78-326396a39403\u001b[39m\u001b[38;5;124m'\u001b[39m\n",
      "\u001b[1;31mModuleNotFoundError\u001b[0m: No module named 'requests'"
     ]
    }
   ],
   "source": [
    "import requests\n",
    "import json\n",
    "\n",
    "access_key = '42b6ced0-abbf-4089-8c78-326396a39403'\n",
    "\n",
    "headers = {\n",
    "    'X-Yandex-Weather-Key': access_key\n",
    "}\n",
    "\n",
    "lat = 51\n",
    "lon = 35\n",
    "coords = f'lat={lat}&lon={lon}'\n",
    "url = 'https://api.weather.yandex.ru/v2/forecast?' + coords\n",
    "\n",
    "response = requests.get(url, headers=headers)\n",
    "\n",
    "# with open(\"data.json\", 'w', encoding=\"UTF-8\") as File:\n",
    "#     json.dump(response.json(), File, indent=4)\n",
    "\n",
    "for day in response.json()['forecasts']:\n",
    "    rain = day[\"parts\"][\"day\"][\"condition\"]\n",
    "    date = day['date']\n",
    "    print(f\"{date}: {'Дождь ожидается' if 'rain' in rain else 'Дождь не ожидается'}\")\n"
   ]
  }
 ],
 "metadata": {
  "kernelspec": {
   "display_name": "Python 3",
   "language": "python",
   "name": "python3"
  },
  "language_info": {
   "codemirror_mode": {
    "name": "ipython",
    "version": 3
   },
   "file_extension": ".py",
   "mimetype": "text/x-python",
   "name": "python",
   "nbconvert_exporter": "python",
   "pygments_lexer": "ipython3",
   "version": "3.13.0"
  }
 },
 "nbformat": 4,
 "nbformat_minor": 2
}
