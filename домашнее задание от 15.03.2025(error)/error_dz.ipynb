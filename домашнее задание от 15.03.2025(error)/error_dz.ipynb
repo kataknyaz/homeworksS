{
 "cells": [
  {
   "cell_type": "code",
   "execution_count": 5,
   "metadata": {},
   "outputs": [
    {
     "name": "stdout",
     "output_type": "stream",
     "text": [
      "Начало выполнения функции\n"
     ]
    }
   ],
   "source": [
    "def outer():\n",
    "    def inner():\n",
    "        print(\"Начало выполнения функции\")   #добавила скобку в принте\n",
    "    return inner()\n",
    "outer()\n"
   ]
  },
  {
   "cell_type": "code",
   "execution_count": 4,
   "metadata": {},
   "outputs": [
    {
     "name": "stdout",
     "output_type": "stream",
     "text": [
      "[11, 12, 13]\n"
     ]
    }
   ],
   "source": [
    "def process_list(lst, offset):\n",
    "    result = []\n",
    "    for item in lst:\n",
    "        result.append(item + offset)\n",
    "    return result\n",
    "print(process_list([1, 2, 3], 10))\n",
    "\n",
    "# интерпритатор не понимает, что такое offset, поэтому ее надо передать в функцию\n",
    "# также при выводе передать ее в аргумент"
   ]
  },
  {
   "cell_type": "code",
   "execution_count": 3,
   "metadata": {},
   "outputs": [
    {
     "name": "stdout",
     "output_type": "stream",
     "text": [
      "20.0\n"
     ]
    }
   ],
   "source": [
    "def calculate_average(numbers):\n",
    "    total = sum(numbers) # сумма чисел в списке\n",
    "    count = len(numbers) # длина списка\n",
    "    if count > 0: # если список > 0, возвращаем среднее значение\n",
    "        return total / count\n",
    "    else:\n",
    "        return 0  #иначе возвращаем 0\n",
    "        \n",
    "        \n",
    "print(calculate_average([10, 20, 30]))\n",
    "\n",
    "# (count - count) = 0, а на 0 делить нельзя, поэтому надо написать total / count\n",
    "#  можно также сделать проверку"
   ]
  },
  {
   "cell_type": "code",
   "execution_count": 2,
   "metadata": {},
   "outputs": [
    {
     "name": "stdout",
     "output_type": "stream",
     "text": [
      "123\n"
     ]
    }
   ],
   "source": [
    "def combine_data(data):\n",
    "    combined = \"\"\n",
    "    for item in data:\n",
    "        combined += str(item) # преобразуем в строку элементы \n",
    "    return combined\n",
    "print(combine_data([1, 2, 3]))\n",
    "\n",
    "# нельзя объединить числа и строки в одну строку\n",
    "# надо преобразовать числа в строки "
   ]
  },
  {
   "cell_type": "code",
   "execution_count": 1,
   "metadata": {},
   "outputs": [
    {
     "name": "stdout",
     "output_type": "stream",
     "text": [
      "Buddy says woof!\n",
      "Kitty says meow!\n"
     ]
    }
   ],
   "source": [
    "class Animal:\n",
    "    def __init__(self, name):\n",
    "        self.name = name\n",
    "    def speak(self):\n",
    "        raise NotImplementedError\n",
    "\n",
    "class Dog(Animal):\n",
    "    def speak(self):\n",
    "        return f\"{self.name} says woof!\"\n",
    "\n",
    "class Cat(Animal):\n",
    "    def speak(self):\n",
    "        return f\"{self.name} says meow!\"\n",
    "\n",
    "animals = [Dog(\"Buddy\"), Cat(\"Kitty\")]\n",
    "for animal in animals:\n",
    "    print(animal.speak())   #в цикле нет метода talk, есть speak, его и надо вызвать"
   ]
  }
 ],
 "metadata": {
  "kernelspec": {
   "display_name": "Python 3",
   "language": "python",
   "name": "python3"
  },
  "language_info": {
   "codemirror_mode": {
    "name": "ipython",
    "version": 3
   },
   "file_extension": ".py",
   "mimetype": "text/x-python",
   "name": "python",
   "nbconvert_exporter": "python",
   "pygments_lexer": "ipython3",
   "version": "3.13.0"
  }
 },
 "nbformat": 4,
 "nbformat_minor": 2
}
